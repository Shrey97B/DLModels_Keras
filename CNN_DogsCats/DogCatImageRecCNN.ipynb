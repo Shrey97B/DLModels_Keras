{
  "nbformat": 4,
  "nbformat_minor": 0,
  "metadata": {
    "colab": {
      "name": "DogCatImageRecCNN.ipynb",
      "provenance": [],
      "collapsed_sections": []
    },
    "kernelspec": {
      "name": "python3",
      "display_name": "Python 3"
    }
  },
  "cells": [
    {
      "cell_type": "code",
      "metadata": {
        "id": "7g8HjvYfcVk-",
        "colab": {
          "base_uri": "https://localhost:8080/"
        },
        "outputId": "b12e847f-60d3-4702-ee93-526a44f2ec65"
      },
      "source": [
        "import tensorflow\n",
        "import keras\n",
        "print(tensorflow.__version__)\n",
        "print(keras.__version__)"
      ],
      "execution_count": 1,
      "outputs": [
        {
          "output_type": "stream",
          "text": [
            "2.4.1\n",
            "2.4.3\n"
          ],
          "name": "stdout"
        }
      ]
    },
    {
      "cell_type": "code",
      "metadata": {
        "id": "loCY1epLvuvD",
        "colab": {
          "base_uri": "https://localhost:8080/"
        },
        "outputId": "0413a492-8b01-4bf2-8996-a8f5105e3d09"
      },
      "source": [
        "from google.colab import drive\n",
        "\n",
        "# This will prompt for authorization.\n",
        "drive.mount('/content/drive')\n",
        "\n",
        "!ls \"/content/drive/My Drive/DogsCats/dataset\""
      ],
      "execution_count": 2,
      "outputs": [
        {
          "output_type": "stream",
          "text": [
            "Mounted at /content/drive\n",
            "single_prediction  test_set  training_set\n"
          ],
          "name": "stdout"
        }
      ]
    },
    {
      "cell_type": "code",
      "metadata": {
        "id": "BNzzc4ihv4KY"
      },
      "source": [
        "from keras.models import Sequential\n",
        "from keras.layers import Conv2D\n",
        "from keras.layers import MaxPooling2D\n",
        "from keras.layers import Flatten\n",
        "from keras.layers import Dense\n",
        "from keras.layers import Dropout\n",
        "\n",
        "classifier = Sequential()\n",
        "classifier.add(Conv2D(filters=32,kernel_size=(3,3),input_shape=(64,64,3),activation='relu'))\n",
        "classifier.add(MaxPooling2D(pool_size=(2,2)))\n",
        "\n",
        "classifier.add(Conv2D(filters=64,kernel_size=(3,3),activation='relu'))\n",
        "classifier.add(MaxPooling2D(pool_size=(2,2)))\n",
        "classifier.add(Dropout(0.4))\n",
        "\n",
        "classifier.add(Conv2D(128, (3,3), activation='relu'))\n",
        "classifier.add(MaxPooling2D(pool_size = (2,2)))\n",
        "classifier.add(Dropout(0.4))\n",
        "\n",
        "classifier.add(Conv2D(256, (3,3), activation='relu'))\n",
        "classifier.add(MaxPooling2D(pool_size = (2,2)))\n",
        "classifier.add(Flatten())\n",
        "classifier.add(Dropout(0.4))\n",
        "\n",
        "classifier.add(Dense(units=128,activation='relu'))\n",
        "classifier.add(Dense(units=1,activation='sigmoid'))\n",
        "classifier.compile(optimizer='adam',loss='binary_crossentropy',metrics=['accuracy'])"
      ],
      "execution_count": 3,
      "outputs": []
    },
    {
      "cell_type": "code",
      "metadata": {
        "id": "9lsW-Ewyv8za",
        "colab": {
          "base_uri": "https://localhost:8080/"
        },
        "outputId": "33194833-68a1-42b9-9b30-dc8b6b2dae82"
      },
      "source": [
        "from keras.preprocessing.image import ImageDataGenerator\n",
        "\n",
        "train_datagen = ImageDataGenerator(rescale=1./255,shear_range=0.2,zoom_range=0.2,horizontal_flip=True)\n",
        "test_datagen = ImageDataGenerator(rescale=1./255)\n",
        "\n",
        "training_set = train_datagen.flow_from_directory('/content/drive/My Drive/DogsCats/dataset/training_set',target_size=(64,64),batch_size=32,class_mode='binary')\n",
        "test_set = train_datagen.flow_from_directory('/content/drive/My Drive/DogsCats/dataset/test_set',target_size=(64,64),batch_size=32,class_mode='binary')"
      ],
      "execution_count": 4,
      "outputs": [
        {
          "output_type": "stream",
          "text": [
            "Found 8000 images belonging to 2 classes.\n",
            "Found 2000 images belonging to 2 classes.\n"
          ],
          "name": "stdout"
        }
      ]
    },
    {
      "cell_type": "code",
      "metadata": {
        "id": "iovV7522uoCi",
        "colab": {
          "base_uri": "https://localhost:8080/"
        },
        "outputId": "e4146528-0e82-4f0b-c836-941673c02407"
      },
      "source": [
        "print(training_set[0])\n",
        "print(test_set)"
      ],
      "execution_count": 5,
      "outputs": [
        {
          "output_type": "stream",
          "text": [
            "(array([[[[0.7153066 , 0.69161695, 0.6200884 ],\n",
            "         [0.6829833 , 0.67252326, 0.59866583],\n",
            "         [0.7389036 , 0.73571074, 0.6665801 ],\n",
            "         ...,\n",
            "         [0.9960785 , 0.9960785 , 0.9960785 ],\n",
            "         [0.99338526, 0.99338526, 0.99338526],\n",
            "         [0.9921569 , 0.9921569 , 0.9921569 ]],\n",
            "\n",
            "        [[0.7153066 , 0.69161695, 0.6200884 ],\n",
            "         [0.6829833 , 0.67252326, 0.59866583],\n",
            "         [0.7389036 , 0.73571074, 0.6665801 ],\n",
            "         ...,\n",
            "         [0.9960785 , 0.9960785 , 0.9960785 ],\n",
            "         [0.99338526, 0.99338526, 0.99338526],\n",
            "         [0.9921569 , 0.9921569 , 0.9921569 ]],\n",
            "\n",
            "        [[0.7153066 , 0.69161695, 0.6200884 ],\n",
            "         [0.6829833 , 0.67252326, 0.59866583],\n",
            "         [0.7389036 , 0.73571074, 0.6665801 ],\n",
            "         ...,\n",
            "         [0.9960785 , 0.9960785 , 0.9960785 ],\n",
            "         [0.99338526, 0.99338526, 0.99338526],\n",
            "         [0.9921569 , 0.9921569 , 0.9921569 ]],\n",
            "\n",
            "        ...,\n",
            "\n",
            "        [[0.37647063, 0.07561032, 0.09223695],\n",
            "         [0.37581825, 0.06470957, 0.08496978],\n",
            "         [0.3732778 , 0.05563073, 0.07916014],\n",
            "         ...,\n",
            "         [0.5019608 , 0.08423364, 0.10870341],\n",
            "         [0.51273376, 0.08235294, 0.10588236],\n",
            "         [0.5248628 , 0.0847582 , 0.10828762]],\n",
            "\n",
            "        [[0.37647063, 0.07561032, 0.09223695],\n",
            "         [0.37581825, 0.06470957, 0.08496978],\n",
            "         [0.3732778 , 0.05563073, 0.07916014],\n",
            "         ...,\n",
            "         [0.5019608 , 0.08423364, 0.10870341],\n",
            "         [0.51273376, 0.08235294, 0.10588236],\n",
            "         [0.5248628 , 0.0847582 , 0.10828762]],\n",
            "\n",
            "        [[0.37647063, 0.07561032, 0.09223695],\n",
            "         [0.37581825, 0.06470957, 0.08496978],\n",
            "         [0.3732778 , 0.05563073, 0.07916014],\n",
            "         ...,\n",
            "         [0.5019608 , 0.08423364, 0.10870341],\n",
            "         [0.51273376, 0.08235294, 0.10588236],\n",
            "         [0.5248628 , 0.0847582 , 0.10828762]]],\n",
            "\n",
            "\n",
            "       [[[0.6392157 , 0.7490196 , 0.7607844 ],\n",
            "         [0.6392157 , 0.7490196 , 0.7607844 ],\n",
            "         [0.6392157 , 0.7490196 , 0.7607844 ],\n",
            "         ...,\n",
            "         [0.7254902 , 0.67058825, 0.53333336],\n",
            "         [0.7254902 , 0.67058825, 0.53333336],\n",
            "         [0.7254902 , 0.67058825, 0.53333336]],\n",
            "\n",
            "        [[0.6392157 , 0.7490196 , 0.7607844 ],\n",
            "         [0.6392157 , 0.7490196 , 0.7607844 ],\n",
            "         [0.6392157 , 0.7490196 , 0.7607844 ],\n",
            "         ...,\n",
            "         [0.7254902 , 0.67058825, 0.53333336],\n",
            "         [0.7254902 , 0.67058825, 0.53333336],\n",
            "         [0.7254902 , 0.67058825, 0.53333336]],\n",
            "\n",
            "        [[0.68532974, 0.7490196 , 0.74060947],\n",
            "         [0.6852522 , 0.7490196 , 0.74064344],\n",
            "         [0.68517464, 0.7490196 , 0.74067736],\n",
            "         ...,\n",
            "         [0.7073851 , 0.6628289 , 0.525574  ],\n",
            "         [0.70741904, 0.66284347, 0.5255885 ],\n",
            "         [0.70745295, 0.662858  , 0.52560306]],\n",
            "\n",
            "        ...,\n",
            "\n",
            "        [[0.811238  , 0.7387284 , 0.67306185],\n",
            "         [0.81112653, 0.7386072 , 0.67293584],\n",
            "         [0.811015  , 0.73848605, 0.67280984],\n",
            "         ...,\n",
            "         [0.80572987, 0.7366448 , 0.64071894],\n",
            "         [0.8057444 , 0.736703  , 0.64076257],\n",
            "         [0.80575895, 0.73676115, 0.6408062 ]],\n",
            "\n",
            "        [[0.87843144, 0.8117648 , 0.7490196 ],\n",
            "         [0.87843144, 0.8117648 , 0.7490196 ],\n",
            "         [0.87843144, 0.8117648 , 0.7490196 ],\n",
            "         ...,\n",
            "         [0.7960785 , 0.69803923, 0.6117647 ],\n",
            "         [0.7960785 , 0.69803923, 0.6117647 ],\n",
            "         [0.7960785 , 0.69803923, 0.6117647 ]],\n",
            "\n",
            "        [[0.87843144, 0.8117648 , 0.7490196 ],\n",
            "         [0.87843144, 0.8117648 , 0.7490196 ],\n",
            "         [0.87843144, 0.8117648 , 0.7490196 ],\n",
            "         ...,\n",
            "         [0.7960785 , 0.69803923, 0.6117647 ],\n",
            "         [0.7960785 , 0.69803923, 0.6117647 ],\n",
            "         [0.7960785 , 0.69803923, 0.6117647 ]]],\n",
            "\n",
            "\n",
            "       [[[0.56579274, 0.5304986 , 0.40893   ],\n",
            "         [0.5657267 , 0.5304326 , 0.40886393],\n",
            "         [0.56566066, 0.53036654, 0.40879792],\n",
            "         ...,\n",
            "         [0.51302534, 0.5058824 , 0.41218552],\n",
            "         [0.5130348 , 0.5058824 , 0.41223267],\n",
            "         [0.51304424, 0.5058824 , 0.41227984]],\n",
            "\n",
            "        [[0.5802978 , 0.5500236 , 0.42243108],\n",
            "         [0.58033556, 0.5500142 , 0.42247826],\n",
            "         [0.5803733 , 0.5500048 , 0.42252544],\n",
            "         ...,\n",
            "         [0.51108927, 0.5071677 , 0.39736375],\n",
            "         [0.51106095, 0.5071394 , 0.39733544],\n",
            "         [0.51103264, 0.5071111 , 0.39730716]],\n",
            "\n",
            "        [[0.5693597 , 0.5573348 , 0.41003996],\n",
            "         [0.56935036, 0.55727816, 0.41001165],\n",
            "         [0.5693409 , 0.5572216 , 0.40998334],\n",
            "         ...,\n",
            "         [0.52078515, 0.5168636 , 0.4070596 ],\n",
            "         [0.5208323 , 0.51691073, 0.4071068 ],\n",
            "         [0.52087945, 0.5169579 , 0.40715396]],\n",
            "\n",
            "        ...,\n",
            "\n",
            "        [[0.80430835, 0.8431373 , 0.64114946],\n",
            "         [0.8042989 , 0.8431373 , 0.64110225],\n",
            "         [0.8042895 , 0.8431373 , 0.6410551 ],\n",
            "         ...,\n",
            "         [0.6929848 , 0.73744375, 0.56749463],\n",
            "         [0.6929282 , 0.73745316, 0.567438  ],\n",
            "         [0.69287163, 0.73746264, 0.5673814 ]],\n",
            "\n",
            "        [[0.8080732 , 0.84336734, 0.6592836 ],\n",
            "         [0.8080543 , 0.8433485 , 0.6592459 ],\n",
            "         [0.8080355 , 0.8433296 , 0.6592082 ],\n",
            "         ...,\n",
            "         [0.71142286, 0.7545601 , 0.5859326 ],\n",
            "         [0.71137565, 0.75451297, 0.58588547],\n",
            "         [0.7113285 , 0.75446576, 0.5858383 ]],\n",
            "\n",
            "        [[0.8153729 , 0.850667  , 0.673883  ],\n",
            "         [0.81535405, 0.85064816, 0.6738453 ],\n",
            "         [0.8153352 , 0.8506293 , 0.6738075 ],\n",
            "         ...,\n",
            "         [0.6945897 , 0.7377269 , 0.5690995 ],\n",
            "         [0.6946463 , 0.73778355, 0.5691561 ],\n",
            "         [0.6947029 , 0.7378402 , 0.5692127 ]]],\n",
            "\n",
            "\n",
            "       ...,\n",
            "\n",
            "\n",
            "       [[[0.07450981, 0.07843138, 0.05490196],\n",
            "         [0.07450981, 0.07843138, 0.05490196],\n",
            "         [0.07450981, 0.07843138, 0.05490196],\n",
            "         ...,\n",
            "         [0.03137255, 0.01176471, 0.        ],\n",
            "         [0.03137255, 0.01176471, 0.        ],\n",
            "         [0.03137255, 0.01176471, 0.        ]],\n",
            "\n",
            "        [[0.07450981, 0.07843138, 0.05490196],\n",
            "         [0.07450981, 0.07843138, 0.05490196],\n",
            "         [0.07450981, 0.07843138, 0.05490196],\n",
            "         ...,\n",
            "         [0.03137255, 0.01176471, 0.        ],\n",
            "         [0.03137255, 0.01176471, 0.        ],\n",
            "         [0.03137255, 0.01176471, 0.        ]],\n",
            "\n",
            "        [[0.07450981, 0.07843138, 0.05490196],\n",
            "         [0.07450981, 0.07843138, 0.05490196],\n",
            "         [0.07450981, 0.07843138, 0.05490196],\n",
            "         ...,\n",
            "         [0.03137255, 0.01176471, 0.        ],\n",
            "         [0.03137255, 0.01176471, 0.        ],\n",
            "         [0.03137255, 0.01176471, 0.        ]],\n",
            "\n",
            "        ...,\n",
            "\n",
            "        [[0.41176474, 0.34901962, 0.29803923],\n",
            "         [0.41176474, 0.34901962, 0.29803923],\n",
            "         [0.41176474, 0.34901962, 0.29803923],\n",
            "         ...,\n",
            "         [0.4431373 , 0.35686275, 0.3019608 ],\n",
            "         [0.4431373 , 0.35686275, 0.3019608 ],\n",
            "         [0.4431373 , 0.35686275, 0.3019608 ]],\n",
            "\n",
            "        [[0.41176474, 0.34901962, 0.29803923],\n",
            "         [0.41176474, 0.34901962, 0.29803923],\n",
            "         [0.41176474, 0.34901962, 0.29803923],\n",
            "         ...,\n",
            "         [0.4431373 , 0.35686275, 0.3019608 ],\n",
            "         [0.4431373 , 0.35686275, 0.3019608 ],\n",
            "         [0.4431373 , 0.35686275, 0.3019608 ]],\n",
            "\n",
            "        [[0.41176474, 0.34901962, 0.29803923],\n",
            "         [0.41176474, 0.34901962, 0.29803923],\n",
            "         [0.41176474, 0.34901962, 0.29803923],\n",
            "         ...,\n",
            "         [0.4431373 , 0.35686275, 0.3019608 ],\n",
            "         [0.4431373 , 0.35686275, 0.3019608 ],\n",
            "         [0.4431373 , 0.35686275, 0.3019608 ]]],\n",
            "\n",
            "\n",
            "       [[[0.75519085, 0.7650154 , 0.77238387],\n",
            "         [0.8566065 , 0.8547312 , 0.843479  ],\n",
            "         [0.85278326, 0.84412026, 0.80075085],\n",
            "         ...,\n",
            "         [0.47778583, 0.47247666, 0.5411765 ],\n",
            "         [0.47721943, 0.5038458 , 0.5430615 ],\n",
            "         [0.5552774 , 0.55814695, 0.59736264]],\n",
            "\n",
            "        [[0.75519085, 0.7650154 , 0.77238387],\n",
            "         [0.8566065 , 0.8547312 , 0.843479  ],\n",
            "         [0.85278326, 0.84412026, 0.80075085],\n",
            "         ...,\n",
            "         [0.47778583, 0.47247666, 0.5411765 ],\n",
            "         [0.47721943, 0.5038458 , 0.5430615 ],\n",
            "         [0.5552774 , 0.55814695, 0.59736264]],\n",
            "\n",
            "        [[0.75519085, 0.7650154 , 0.77238387],\n",
            "         [0.8566065 , 0.8547312 , 0.843479  ],\n",
            "         [0.85278326, 0.84412026, 0.80075085],\n",
            "         ...,\n",
            "         [0.47778583, 0.47247666, 0.5411765 ],\n",
            "         [0.47721943, 0.5038458 , 0.5430615 ],\n",
            "         [0.5552774 , 0.55814695, 0.59736264]],\n",
            "\n",
            "        ...,\n",
            "\n",
            "        [[0.8200826 , 0.81616104, 0.8475336 ],\n",
            "         [0.82651335, 0.8235295 , 0.8586528 ],\n",
            "         [0.7960638 , 0.7907346 , 0.8291848 ],\n",
            "         ...,\n",
            "         [0.45736936, 0.42520654, 0.33118537],\n",
            "         [0.26064074, 0.28204957, 0.14989433],\n",
            "         [0.5389343 , 0.49925432, 0.40103734]],\n",
            "\n",
            "        [[0.8200826 , 0.81616104, 0.8475336 ],\n",
            "         [0.82651335, 0.8235295 , 0.8586528 ],\n",
            "         [0.7960638 , 0.7907346 , 0.8291848 ],\n",
            "         ...,\n",
            "         [0.45736936, 0.42520654, 0.33118537],\n",
            "         [0.26064074, 0.28204957, 0.14989433],\n",
            "         [0.5389343 , 0.49925432, 0.40103734]],\n",
            "\n",
            "        [[0.8200826 , 0.81616104, 0.8475336 ],\n",
            "         [0.82651335, 0.8235295 , 0.8586528 ],\n",
            "         [0.7960638 , 0.7907346 , 0.8291848 ],\n",
            "         ...,\n",
            "         [0.45736936, 0.42520654, 0.33118537],\n",
            "         [0.26064074, 0.28204957, 0.14989433],\n",
            "         [0.5389343 , 0.49925432, 0.40103734]]],\n",
            "\n",
            "\n",
            "       [[[0.3914817 , 0.53130776, 0.5835089 ],\n",
            "         [0.3896095 , 0.5219122 , 0.5612997 ],\n",
            "         [0.41695458, 0.5287485 , 0.57155406],\n",
            "         ...,\n",
            "         [0.5687215 , 0.60793716, 0.6432313 ],\n",
            "         [0.5756355 , 0.6148512 , 0.65014535],\n",
            "         [0.57288074, 0.6120964 , 0.64739054]],\n",
            "\n",
            "        [[0.3914817 , 0.53130776, 0.5835089 ],\n",
            "         [0.3896095 , 0.5219122 , 0.5612997 ],\n",
            "         [0.41695458, 0.5287485 , 0.57155406],\n",
            "         ...,\n",
            "         [0.5687215 , 0.60793716, 0.6432313 ],\n",
            "         [0.5756355 , 0.6148512 , 0.65014535],\n",
            "         [0.57288074, 0.6120964 , 0.64739054]],\n",
            "\n",
            "        [[0.3926838 , 0.5303855 , 0.5822528 ],\n",
            "         [0.39301458, 0.52276963, 0.562653  ],\n",
            "         [0.42111215, 0.5312325 , 0.5740828 ],\n",
            "         ...,\n",
            "         [0.5690789 , 0.6082946 , 0.6435887 ],\n",
            "         [0.5757521 , 0.61496776, 0.6502619 ],\n",
            "         [0.57347953, 0.6126952 , 0.64798933]],\n",
            "\n",
            "        ...,\n",
            "\n",
            "        [[0.52193105, 0.5533036 , 0.59779125],\n",
            "         [0.4917328 , 0.5231054 , 0.5740858 ],\n",
            "         [0.4917022 , 0.52307475, 0.57405514],\n",
            "         ...,\n",
            "         [0.61090535, 0.6447669 , 0.69182575],\n",
            "         [0.5962301 , 0.6139139 , 0.65763235],\n",
            "         [0.81730074, 0.81138927, 0.8424301 ]],\n",
            "\n",
            "        [[0.495884  , 0.5272566 , 0.5717442 ],\n",
            "         [0.46735376, 0.4987263 , 0.5497067 ],\n",
            "         [0.48102632, 0.5123989 , 0.5633793 ],\n",
            "         ...,\n",
            "         [0.6116934 , 0.645555  , 0.69261384],\n",
            "         [0.5665167 , 0.58420044, 0.6279189 ],\n",
            "         [0.8196079 , 0.8136963 , 0.8447373 ]],\n",
            "\n",
            "        [[0.495884  , 0.5272566 , 0.5717442 ],\n",
            "         [0.46735376, 0.4987263 , 0.5497067 ],\n",
            "         [0.48102632, 0.5123989 , 0.5633793 ],\n",
            "         ...,\n",
            "         [0.6116934 , 0.645555  , 0.69261384],\n",
            "         [0.5665167 , 0.58420044, 0.6279189 ],\n",
            "         [0.8196079 , 0.8136963 , 0.8447373 ]]]], dtype=float32), array([0., 0., 1., 1., 0., 1., 1., 0., 0., 1., 1., 0., 0., 0., 1., 0., 0.,\n",
            "       0., 0., 0., 0., 1., 1., 0., 0., 1., 1., 0., 0., 1., 1., 0.],\n",
            "      dtype=float32))\n",
            "<tensorflow.python.keras.preprocessing.image.DirectoryIterator object at 0x7f4c03111290>\n"
          ],
          "name": "stdout"
        }
      ]
    },
    {
      "cell_type": "code",
      "metadata": {
        "id": "k35-zz_mJZ4N"
      },
      "source": [
        "from keras.callbacks import Callback\n",
        "\n",
        "class SensitivitySpecificityCallback(Callback):\n",
        "  \n",
        "    def __init__(self, val_data):\n",
        "       super().__init__()\n",
        "       self.validation_data = val_data\n",
        "       print('Inside Init')\n",
        "  \n",
        "    def on_epoch_end(self, epoch, logs=None):\n",
        "      print('Inside Epoch End')\n",
        "      x_test = self.validation_data[0]\n",
        "      y_test = self.validation_data[1]\n",
        "      # x_test, y_test = self.validation_data\n",
        "      predictions = self.model.predict(x_test)\n",
        "      y_test = np.argmax(y_test, axis=-1)\n",
        "      predictions = np.argmax(predictions, axis=-1)\n",
        "      c = confusion_matrix(y_test, predictions)\n",
        "      print('Confusion matrix:\\n', c)\n",
        "      print('sensitivity', c[0, 0] / (c[0, 1] + c[0, 0]))\n",
        "      print('specificity', c[1, 1] / (c[1, 1] + c[1, 0]))"
      ],
      "execution_count": 17,
      "outputs": []
    },
    {
      "cell_type": "code",
      "metadata": {
        "id": "Qzp0AKXg8-Mb",
        "colab": {
          "base_uri": "https://localhost:8080/",
          "height": 428
        },
        "outputId": "5d7f1607-71bc-472e-d9c4-160f64876806"
      },
      "source": [
        "classifier.fit(training_set,steps_per_epoch=250,epochs=10,shuffle=True,validation_data=test_set,validation_steps=62,callbacks=[SensitivitySpecificityCallback(test_set)])"
      ],
      "execution_count": 18,
      "outputs": [
        {
          "output_type": "stream",
          "text": [
            "Inside Init\n",
            "Epoch 1/30\n",
            "250/250 [==============================] - ETA: 0s - loss: 0.6847 - accuracy: 0.5466 "
          ],
          "name": "stdout"
        },
        {
          "output_type": "error",
          "ename": "KeyboardInterrupt",
          "evalue": "ignored",
          "traceback": [
            "\u001b[0;31m---------------------------------------------------------------------------\u001b[0m",
            "\u001b[0;31mKeyboardInterrupt\u001b[0m                         Traceback (most recent call last)",
            "\u001b[0;32m<ipython-input-18-c3e26424dea8>\u001b[0m in \u001b[0;36m<module>\u001b[0;34m()\u001b[0m\n\u001b[0;32m----> 1\u001b[0;31m \u001b[0mclassifier\u001b[0m\u001b[0;34m.\u001b[0m\u001b[0mfit\u001b[0m\u001b[0;34m(\u001b[0m\u001b[0mtraining_set\u001b[0m\u001b[0;34m,\u001b[0m\u001b[0msteps_per_epoch\u001b[0m\u001b[0;34m=\u001b[0m\u001b[0;36m250\u001b[0m\u001b[0;34m,\u001b[0m\u001b[0mepochs\u001b[0m\u001b[0;34m=\u001b[0m\u001b[0;36m30\u001b[0m\u001b[0;34m,\u001b[0m\u001b[0mshuffle\u001b[0m\u001b[0;34m=\u001b[0m\u001b[0;32mTrue\u001b[0m\u001b[0;34m,\u001b[0m\u001b[0mvalidation_data\u001b[0m\u001b[0;34m=\u001b[0m\u001b[0mtest_set\u001b[0m\u001b[0;34m,\u001b[0m\u001b[0mvalidation_steps\u001b[0m\u001b[0;34m=\u001b[0m\u001b[0;36m62\u001b[0m\u001b[0;34m,\u001b[0m\u001b[0mcallbacks\u001b[0m\u001b[0;34m=\u001b[0m\u001b[0;34m[\u001b[0m\u001b[0mSensitivitySpecificityCallback\u001b[0m\u001b[0;34m(\u001b[0m\u001b[0mtest_set\u001b[0m\u001b[0;34m)\u001b[0m\u001b[0;34m]\u001b[0m\u001b[0;34m)\u001b[0m\u001b[0;34m\u001b[0m\u001b[0;34m\u001b[0m\u001b[0m\n\u001b[0m",
            "\u001b[0;32m/usr/local/lib/python3.7/dist-packages/tensorflow/python/keras/engine/training.py\u001b[0m in \u001b[0;36mfit\u001b[0;34m(self, x, y, batch_size, epochs, verbose, callbacks, validation_split, validation_data, shuffle, class_weight, sample_weight, initial_epoch, steps_per_epoch, validation_steps, validation_batch_size, validation_freq, max_queue_size, workers, use_multiprocessing)\u001b[0m\n\u001b[1;32m   1139\u001b[0m               \u001b[0mworkers\u001b[0m\u001b[0;34m=\u001b[0m\u001b[0mworkers\u001b[0m\u001b[0;34m,\u001b[0m\u001b[0;34m\u001b[0m\u001b[0;34m\u001b[0m\u001b[0m\n\u001b[1;32m   1140\u001b[0m               \u001b[0muse_multiprocessing\u001b[0m\u001b[0;34m=\u001b[0m\u001b[0muse_multiprocessing\u001b[0m\u001b[0;34m,\u001b[0m\u001b[0;34m\u001b[0m\u001b[0;34m\u001b[0m\u001b[0m\n\u001b[0;32m-> 1141\u001b[0;31m               return_dict=True)\n\u001b[0m\u001b[1;32m   1142\u001b[0m           \u001b[0mval_logs\u001b[0m \u001b[0;34m=\u001b[0m \u001b[0;34m{\u001b[0m\u001b[0;34m'val_'\u001b[0m \u001b[0;34m+\u001b[0m \u001b[0mname\u001b[0m\u001b[0;34m:\u001b[0m \u001b[0mval\u001b[0m \u001b[0;32mfor\u001b[0m \u001b[0mname\u001b[0m\u001b[0;34m,\u001b[0m \u001b[0mval\u001b[0m \u001b[0;32min\u001b[0m \u001b[0mval_logs\u001b[0m\u001b[0;34m.\u001b[0m\u001b[0mitems\u001b[0m\u001b[0;34m(\u001b[0m\u001b[0;34m)\u001b[0m\u001b[0;34m}\u001b[0m\u001b[0;34m\u001b[0m\u001b[0;34m\u001b[0m\u001b[0m\n\u001b[1;32m   1143\u001b[0m           \u001b[0mepoch_logs\u001b[0m\u001b[0;34m.\u001b[0m\u001b[0mupdate\u001b[0m\u001b[0;34m(\u001b[0m\u001b[0mval_logs\u001b[0m\u001b[0;34m)\u001b[0m\u001b[0;34m\u001b[0m\u001b[0;34m\u001b[0m\u001b[0m\n",
            "\u001b[0;32m/usr/local/lib/python3.7/dist-packages/tensorflow/python/keras/engine/training.py\u001b[0m in \u001b[0;36mevaluate\u001b[0;34m(self, x, y, batch_size, verbose, sample_weight, steps, callbacks, max_queue_size, workers, use_multiprocessing, return_dict)\u001b[0m\n\u001b[1;32m   1387\u001b[0m             \u001b[0;32mwith\u001b[0m \u001b[0mtrace\u001b[0m\u001b[0;34m.\u001b[0m\u001b[0mTrace\u001b[0m\u001b[0;34m(\u001b[0m\u001b[0;34m'test'\u001b[0m\u001b[0;34m,\u001b[0m \u001b[0mstep_num\u001b[0m\u001b[0;34m=\u001b[0m\u001b[0mstep\u001b[0m\u001b[0;34m,\u001b[0m \u001b[0m_r\u001b[0m\u001b[0;34m=\u001b[0m\u001b[0;36m1\u001b[0m\u001b[0;34m)\u001b[0m\u001b[0;34m:\u001b[0m\u001b[0;34m\u001b[0m\u001b[0;34m\u001b[0m\u001b[0m\n\u001b[1;32m   1388\u001b[0m               \u001b[0mcallbacks\u001b[0m\u001b[0;34m.\u001b[0m\u001b[0mon_test_batch_begin\u001b[0m\u001b[0;34m(\u001b[0m\u001b[0mstep\u001b[0m\u001b[0;34m)\u001b[0m\u001b[0;34m\u001b[0m\u001b[0;34m\u001b[0m\u001b[0m\n\u001b[0;32m-> 1389\u001b[0;31m               \u001b[0mtmp_logs\u001b[0m \u001b[0;34m=\u001b[0m \u001b[0mself\u001b[0m\u001b[0;34m.\u001b[0m\u001b[0mtest_function\u001b[0m\u001b[0;34m(\u001b[0m\u001b[0miterator\u001b[0m\u001b[0;34m)\u001b[0m\u001b[0;34m\u001b[0m\u001b[0;34m\u001b[0m\u001b[0m\n\u001b[0m\u001b[1;32m   1390\u001b[0m               \u001b[0;32mif\u001b[0m \u001b[0mdata_handler\u001b[0m\u001b[0;34m.\u001b[0m\u001b[0mshould_sync\u001b[0m\u001b[0;34m:\u001b[0m\u001b[0;34m\u001b[0m\u001b[0;34m\u001b[0m\u001b[0m\n\u001b[1;32m   1391\u001b[0m                 \u001b[0mcontext\u001b[0m\u001b[0;34m.\u001b[0m\u001b[0masync_wait\u001b[0m\u001b[0;34m(\u001b[0m\u001b[0;34m)\u001b[0m\u001b[0;34m\u001b[0m\u001b[0;34m\u001b[0m\u001b[0m\n",
            "\u001b[0;32m/usr/local/lib/python3.7/dist-packages/tensorflow/python/eager/def_function.py\u001b[0m in \u001b[0;36m__call__\u001b[0;34m(self, *args, **kwds)\u001b[0m\n\u001b[1;32m    826\u001b[0m     \u001b[0mtracing_count\u001b[0m \u001b[0;34m=\u001b[0m \u001b[0mself\u001b[0m\u001b[0;34m.\u001b[0m\u001b[0mexperimental_get_tracing_count\u001b[0m\u001b[0;34m(\u001b[0m\u001b[0;34m)\u001b[0m\u001b[0;34m\u001b[0m\u001b[0;34m\u001b[0m\u001b[0m\n\u001b[1;32m    827\u001b[0m     \u001b[0;32mwith\u001b[0m \u001b[0mtrace\u001b[0m\u001b[0;34m.\u001b[0m\u001b[0mTrace\u001b[0m\u001b[0;34m(\u001b[0m\u001b[0mself\u001b[0m\u001b[0;34m.\u001b[0m\u001b[0m_name\u001b[0m\u001b[0;34m)\u001b[0m \u001b[0;32mas\u001b[0m \u001b[0mtm\u001b[0m\u001b[0;34m:\u001b[0m\u001b[0;34m\u001b[0m\u001b[0;34m\u001b[0m\u001b[0m\n\u001b[0;32m--> 828\u001b[0;31m       \u001b[0mresult\u001b[0m \u001b[0;34m=\u001b[0m \u001b[0mself\u001b[0m\u001b[0;34m.\u001b[0m\u001b[0m_call\u001b[0m\u001b[0;34m(\u001b[0m\u001b[0;34m*\u001b[0m\u001b[0margs\u001b[0m\u001b[0;34m,\u001b[0m \u001b[0;34m**\u001b[0m\u001b[0mkwds\u001b[0m\u001b[0;34m)\u001b[0m\u001b[0;34m\u001b[0m\u001b[0;34m\u001b[0m\u001b[0m\n\u001b[0m\u001b[1;32m    829\u001b[0m       \u001b[0mcompiler\u001b[0m \u001b[0;34m=\u001b[0m \u001b[0;34m\"xla\"\u001b[0m \u001b[0;32mif\u001b[0m \u001b[0mself\u001b[0m\u001b[0;34m.\u001b[0m\u001b[0m_experimental_compile\u001b[0m \u001b[0;32melse\u001b[0m \u001b[0;34m\"nonXla\"\u001b[0m\u001b[0;34m\u001b[0m\u001b[0;34m\u001b[0m\u001b[0m\n\u001b[1;32m    830\u001b[0m       \u001b[0mnew_tracing_count\u001b[0m \u001b[0;34m=\u001b[0m \u001b[0mself\u001b[0m\u001b[0;34m.\u001b[0m\u001b[0mexperimental_get_tracing_count\u001b[0m\u001b[0;34m(\u001b[0m\u001b[0;34m)\u001b[0m\u001b[0;34m\u001b[0m\u001b[0;34m\u001b[0m\u001b[0m\n",
            "\u001b[0;32m/usr/local/lib/python3.7/dist-packages/tensorflow/python/eager/def_function.py\u001b[0m in \u001b[0;36m_call\u001b[0;34m(self, *args, **kwds)\u001b[0m\n\u001b[1;32m    860\u001b[0m       \u001b[0;31m# In this case we have not created variables on the first call. So we can\u001b[0m\u001b[0;34m\u001b[0m\u001b[0;34m\u001b[0m\u001b[0;34m\u001b[0m\u001b[0m\n\u001b[1;32m    861\u001b[0m       \u001b[0;31m# run the first trace but we should fail if variables are created.\u001b[0m\u001b[0;34m\u001b[0m\u001b[0;34m\u001b[0m\u001b[0;34m\u001b[0m\u001b[0m\n\u001b[0;32m--> 862\u001b[0;31m       \u001b[0mresults\u001b[0m \u001b[0;34m=\u001b[0m \u001b[0mself\u001b[0m\u001b[0;34m.\u001b[0m\u001b[0m_stateful_fn\u001b[0m\u001b[0;34m(\u001b[0m\u001b[0;34m*\u001b[0m\u001b[0margs\u001b[0m\u001b[0;34m,\u001b[0m \u001b[0;34m**\u001b[0m\u001b[0mkwds\u001b[0m\u001b[0;34m)\u001b[0m\u001b[0;34m\u001b[0m\u001b[0;34m\u001b[0m\u001b[0m\n\u001b[0m\u001b[1;32m    863\u001b[0m       \u001b[0;32mif\u001b[0m \u001b[0mself\u001b[0m\u001b[0;34m.\u001b[0m\u001b[0m_created_variables\u001b[0m\u001b[0;34m:\u001b[0m\u001b[0;34m\u001b[0m\u001b[0;34m\u001b[0m\u001b[0m\n\u001b[1;32m    864\u001b[0m         raise ValueError(\"Creating variables on a non-first call to a function\"\n",
            "\u001b[0;32m/usr/local/lib/python3.7/dist-packages/tensorflow/python/eager/function.py\u001b[0m in \u001b[0;36m__call__\u001b[0;34m(self, *args, **kwargs)\u001b[0m\n\u001b[1;32m   2941\u001b[0m        filtered_flat_args) = self._maybe_define_function(args, kwargs)\n\u001b[1;32m   2942\u001b[0m     return graph_function._call_flat(\n\u001b[0;32m-> 2943\u001b[0;31m         filtered_flat_args, captured_inputs=graph_function.captured_inputs)  # pylint: disable=protected-access\n\u001b[0m\u001b[1;32m   2944\u001b[0m \u001b[0;34m\u001b[0m\u001b[0m\n\u001b[1;32m   2945\u001b[0m   \u001b[0;34m@\u001b[0m\u001b[0mproperty\u001b[0m\u001b[0;34m\u001b[0m\u001b[0;34m\u001b[0m\u001b[0m\n",
            "\u001b[0;32m/usr/local/lib/python3.7/dist-packages/tensorflow/python/eager/function.py\u001b[0m in \u001b[0;36m_call_flat\u001b[0;34m(self, args, captured_inputs, cancellation_manager)\u001b[0m\n\u001b[1;32m   1917\u001b[0m       \u001b[0;31m# No tape is watching; skip to running the function.\u001b[0m\u001b[0;34m\u001b[0m\u001b[0;34m\u001b[0m\u001b[0;34m\u001b[0m\u001b[0m\n\u001b[1;32m   1918\u001b[0m       return self._build_call_outputs(self._inference_function.call(\n\u001b[0;32m-> 1919\u001b[0;31m           ctx, args, cancellation_manager=cancellation_manager))\n\u001b[0m\u001b[1;32m   1920\u001b[0m     forward_backward = self._select_forward_and_backward_functions(\n\u001b[1;32m   1921\u001b[0m         \u001b[0margs\u001b[0m\u001b[0;34m,\u001b[0m\u001b[0;34m\u001b[0m\u001b[0;34m\u001b[0m\u001b[0m\n",
            "\u001b[0;32m/usr/local/lib/python3.7/dist-packages/tensorflow/python/eager/function.py\u001b[0m in \u001b[0;36mcall\u001b[0;34m(self, ctx, args, cancellation_manager)\u001b[0m\n\u001b[1;32m    558\u001b[0m               \u001b[0minputs\u001b[0m\u001b[0;34m=\u001b[0m\u001b[0margs\u001b[0m\u001b[0;34m,\u001b[0m\u001b[0;34m\u001b[0m\u001b[0;34m\u001b[0m\u001b[0m\n\u001b[1;32m    559\u001b[0m               \u001b[0mattrs\u001b[0m\u001b[0;34m=\u001b[0m\u001b[0mattrs\u001b[0m\u001b[0;34m,\u001b[0m\u001b[0;34m\u001b[0m\u001b[0;34m\u001b[0m\u001b[0m\n\u001b[0;32m--> 560\u001b[0;31m               ctx=ctx)\n\u001b[0m\u001b[1;32m    561\u001b[0m         \u001b[0;32melse\u001b[0m\u001b[0;34m:\u001b[0m\u001b[0;34m\u001b[0m\u001b[0;34m\u001b[0m\u001b[0m\n\u001b[1;32m    562\u001b[0m           outputs = execute.execute_with_cancellation(\n",
            "\u001b[0;32m/usr/local/lib/python3.7/dist-packages/tensorflow/python/eager/execute.py\u001b[0m in \u001b[0;36mquick_execute\u001b[0;34m(op_name, num_outputs, inputs, attrs, ctx, name)\u001b[0m\n\u001b[1;32m     58\u001b[0m     \u001b[0mctx\u001b[0m\u001b[0;34m.\u001b[0m\u001b[0mensure_initialized\u001b[0m\u001b[0;34m(\u001b[0m\u001b[0;34m)\u001b[0m\u001b[0;34m\u001b[0m\u001b[0;34m\u001b[0m\u001b[0m\n\u001b[1;32m     59\u001b[0m     tensors = pywrap_tfe.TFE_Py_Execute(ctx._handle, device_name, op_name,\n\u001b[0;32m---> 60\u001b[0;31m                                         inputs, attrs, num_outputs)\n\u001b[0m\u001b[1;32m     61\u001b[0m   \u001b[0;32mexcept\u001b[0m \u001b[0mcore\u001b[0m\u001b[0;34m.\u001b[0m\u001b[0m_NotOkStatusException\u001b[0m \u001b[0;32mas\u001b[0m \u001b[0me\u001b[0m\u001b[0;34m:\u001b[0m\u001b[0;34m\u001b[0m\u001b[0;34m\u001b[0m\u001b[0m\n\u001b[1;32m     62\u001b[0m     \u001b[0;32mif\u001b[0m \u001b[0mname\u001b[0m \u001b[0;32mis\u001b[0m \u001b[0;32mnot\u001b[0m \u001b[0;32mNone\u001b[0m\u001b[0;34m:\u001b[0m\u001b[0;34m\u001b[0m\u001b[0;34m\u001b[0m\u001b[0m\n",
            "\u001b[0;31mKeyboardInterrupt\u001b[0m: "
          ]
        }
      ]
    },
    {
      "cell_type": "code",
      "metadata": {
        "id": "IY20t5SxF7Yd"
      },
      "source": [
        "classifier.save('DogCatCNN3.h5')"
      ],
      "execution_count": 19,
      "outputs": []
    },
    {
      "cell_type": "code",
      "metadata": {
        "id": "vYhFrQVW3Z4-",
        "colab": {
          "base_uri": "https://localhost:8080/"
        },
        "outputId": "dc764e51-2557-48e0-b8ba-efa076616f10"
      },
      "source": [
        "from keras.models import load_model\n",
        "\n",
        "classifier = load_model('DogCatCNN3.h5')\n",
        "classifier.summary()"
      ],
      "execution_count": 20,
      "outputs": [
        {
          "output_type": "stream",
          "text": [
            "Model: \"sequential\"\n",
            "_________________________________________________________________\n",
            "Layer (type)                 Output Shape              Param #   \n",
            "=================================================================\n",
            "conv2d (Conv2D)              (None, 62, 62, 32)        896       \n",
            "_________________________________________________________________\n",
            "max_pooling2d (MaxPooling2D) (None, 31, 31, 32)        0         \n",
            "_________________________________________________________________\n",
            "conv2d_1 (Conv2D)            (None, 29, 29, 64)        18496     \n",
            "_________________________________________________________________\n",
            "max_pooling2d_1 (MaxPooling2 (None, 14, 14, 64)        0         \n",
            "_________________________________________________________________\n",
            "dropout (Dropout)            (None, 14, 14, 64)        0         \n",
            "_________________________________________________________________\n",
            "conv2d_2 (Conv2D)            (None, 12, 12, 128)       73856     \n",
            "_________________________________________________________________\n",
            "max_pooling2d_2 (MaxPooling2 (None, 6, 6, 128)         0         \n",
            "_________________________________________________________________\n",
            "dropout_1 (Dropout)          (None, 6, 6, 128)         0         \n",
            "_________________________________________________________________\n",
            "conv2d_3 (Conv2D)            (None, 4, 4, 256)         295168    \n",
            "_________________________________________________________________\n",
            "max_pooling2d_3 (MaxPooling2 (None, 2, 2, 256)         0         \n",
            "_________________________________________________________________\n",
            "flatten (Flatten)            (None, 1024)              0         \n",
            "_________________________________________________________________\n",
            "dropout_2 (Dropout)          (None, 1024)              0         \n",
            "_________________________________________________________________\n",
            "dense (Dense)                (None, 128)               131200    \n",
            "_________________________________________________________________\n",
            "dense_1 (Dense)              (None, 1)                 129       \n",
            "=================================================================\n",
            "Total params: 519,745\n",
            "Trainable params: 519,745\n",
            "Non-trainable params: 0\n",
            "_________________________________________________________________\n"
          ],
          "name": "stdout"
        }
      ]
    },
    {
      "cell_type": "code",
      "metadata": {
        "id": "67m921CS9RmO",
        "colab": {
          "base_uri": "https://localhost:8080/"
        },
        "outputId": "0c6bb75d-6387-4ee8-8aea-4c8a6cfee153"
      },
      "source": [
        "print(test_set.class_indices)\n",
        "resultdic = training_set.class_indices"
      ],
      "execution_count": 21,
      "outputs": [
        {
          "output_type": "stream",
          "text": [
            "{'cats': 0, 'dogs': 1}\n"
          ],
          "name": "stdout"
        }
      ]
    },
    {
      "cell_type": "code",
      "metadata": {
        "id": "3f0ehw-H9V2T",
        "colab": {
          "base_uri": "https://localhost:8080/"
        },
        "outputId": "f8ce428b-77dc-4e57-887c-75ac8ca22e61"
      },
      "source": [
        "import numpy as np\n",
        "from keras.preprocessing import image\n",
        "\n",
        "def predictAnimal(num):\n",
        "  test_image = image.load_img('/content/drive/My Drive/DogsCats/dataset/single_prediction/cat_or_dog_' + str(num) +  '.jpg',target_size=(64,64))\n",
        "  test_image = image.img_to_array(test_image)\n",
        "  test_image = np.expand_dims(test_image,axis=0)\n",
        "  test_image = test_image/255\n",
        "  result = classifier.predict(test_image)\n",
        "  print(result)\n",
        "  if round(result[0][0])==1:\n",
        "    print('Dog')\n",
        "  else:\n",
        "    print('Cat')\n",
        "      \n",
        "for i in range(1,10):\n",
        "  predictAnimal(i)"
      ],
      "execution_count": 22,
      "outputs": [
        {
          "output_type": "stream",
          "text": [
            "[[0.6471687]]\n",
            "Dog\n",
            "[[0.53703165]]\n",
            "Dog\n",
            "[[0.66295075]]\n",
            "Dog\n",
            "[[0.64282835]]\n",
            "Dog\n",
            "[[0.5834857]]\n",
            "Dog\n",
            "[[0.54927826]]\n",
            "Dog\n",
            "[[0.5770632]]\n",
            "Dog\n",
            "[[0.581863]]\n",
            "Dog\n",
            "[[0.5848579]]\n",
            "Dog\n"
          ],
          "name": "stdout"
        }
      ]
    },
    {
      "cell_type": "code",
      "metadata": {
        "id": "6eXWcLR88S7z"
      },
      "source": [
        ""
      ],
      "execution_count": 22,
      "outputs": []
    }
  ]
}